{
 "cells": [
  {
   "cell_type": "code",
   "execution_count": 1,
   "id": "53f6c28f-dc22-4d31-afce-dca15bc96347",
   "metadata": {},
   "outputs": [],
   "source": [
    "# import python libraries\n",
    "\n",
    "import numpy as np \n",
    "import pandas as pd \n",
    "import matplotlib.pyplot as plt # visualizing data\n",
    "%matplotlib inline\n",
    "import seaborn as sns"
   ]
  },
  {
   "cell_type": "code",
   "execution_count": 2,
   "id": "71439056-62b8-4d05-a624-54dde8902c4a",
   "metadata": {},
   "outputs": [],
   "source": [
    "dl = pd.read_csv('layoffs.csv')"
   ]
  },
  {
   "cell_type": "code",
   "execution_count": 4,
   "id": "5c96a7b8-fccd-475c-b0be-1e8f5656059f",
   "metadata": {},
   "outputs": [
    {
     "data": {
      "text/plain": [
       "(2361, 9)"
      ]
     },
     "execution_count": 4,
     "metadata": {},
     "output_type": "execute_result"
    }
   ],
   "source": [
    "dl.shape"
   ]
  },
  {
   "cell_type": "code",
   "execution_count": 5,
   "id": "320a3fdd-6a70-4d83-9ec0-774dc7fe97c7",
   "metadata": {},
   "outputs": [
    {
     "data": {
      "text/html": [
       "<div>\n",
       "<style scoped>\n",
       "    .dataframe tbody tr th:only-of-type {\n",
       "        vertical-align: middle;\n",
       "    }\n",
       "\n",
       "    .dataframe tbody tr th {\n",
       "        vertical-align: top;\n",
       "    }\n",
       "\n",
       "    .dataframe thead th {\n",
       "        text-align: right;\n",
       "    }\n",
       "</style>\n",
       "<table border=\"1\" class=\"dataframe\">\n",
       "  <thead>\n",
       "    <tr style=\"text-align: right;\">\n",
       "      <th></th>\n",
       "      <th>company</th>\n",
       "      <th>location</th>\n",
       "      <th>industry</th>\n",
       "      <th>total_laid_off</th>\n",
       "      <th>percentage_laid_off</th>\n",
       "      <th>date</th>\n",
       "      <th>stage</th>\n",
       "      <th>country</th>\n",
       "      <th>funds_raised_millions</th>\n",
       "    </tr>\n",
       "  </thead>\n",
       "  <tbody>\n",
       "    <tr>\n",
       "      <th>0</th>\n",
       "      <td>Atlassian</td>\n",
       "      <td>Sydney</td>\n",
       "      <td>Other</td>\n",
       "      <td>500.0</td>\n",
       "      <td>0.05</td>\n",
       "      <td>3/6/2023</td>\n",
       "      <td>Post-IPO</td>\n",
       "      <td>Australia</td>\n",
       "      <td>210.0</td>\n",
       "    </tr>\n",
       "    <tr>\n",
       "      <th>1</th>\n",
       "      <td>SiriusXM</td>\n",
       "      <td>New York City</td>\n",
       "      <td>Media</td>\n",
       "      <td>475.0</td>\n",
       "      <td>0.08</td>\n",
       "      <td>3/6/2023</td>\n",
       "      <td>Post-IPO</td>\n",
       "      <td>United States</td>\n",
       "      <td>525.0</td>\n",
       "    </tr>\n",
       "    <tr>\n",
       "      <th>2</th>\n",
       "      <td>Alerzo</td>\n",
       "      <td>Ibadan</td>\n",
       "      <td>Retail</td>\n",
       "      <td>400.0</td>\n",
       "      <td>NaN</td>\n",
       "      <td>3/6/2023</td>\n",
       "      <td>Series B</td>\n",
       "      <td>Nigeria</td>\n",
       "      <td>16.0</td>\n",
       "    </tr>\n",
       "    <tr>\n",
       "      <th>3</th>\n",
       "      <td>UpGrad</td>\n",
       "      <td>Mumbai</td>\n",
       "      <td>Education</td>\n",
       "      <td>120.0</td>\n",
       "      <td>NaN</td>\n",
       "      <td>3/6/2023</td>\n",
       "      <td>Unknown</td>\n",
       "      <td>India</td>\n",
       "      <td>631.0</td>\n",
       "    </tr>\n",
       "    <tr>\n",
       "      <th>4</th>\n",
       "      <td>Loft</td>\n",
       "      <td>Sao Paulo</td>\n",
       "      <td>Real Estate</td>\n",
       "      <td>340.0</td>\n",
       "      <td>0.15</td>\n",
       "      <td>3/3/2023</td>\n",
       "      <td>Unknown</td>\n",
       "      <td>Brazil</td>\n",
       "      <td>788.0</td>\n",
       "    </tr>\n",
       "  </tbody>\n",
       "</table>\n",
       "</div>"
      ],
      "text/plain": [
       "     company       location     industry  total_laid_off  percentage_laid_off  \\\n",
       "0  Atlassian         Sydney        Other           500.0                 0.05   \n",
       "1   SiriusXM  New York City        Media           475.0                 0.08   \n",
       "2     Alerzo         Ibadan       Retail           400.0                  NaN   \n",
       "3     UpGrad         Mumbai    Education           120.0                  NaN   \n",
       "4       Loft      Sao Paulo  Real Estate           340.0                 0.15   \n",
       "\n",
       "       date     stage        country  funds_raised_millions  \n",
       "0  3/6/2023  Post-IPO      Australia                  210.0  \n",
       "1  3/6/2023  Post-IPO  United States                  525.0  \n",
       "2  3/6/2023  Series B        Nigeria                   16.0  \n",
       "3  3/6/2023   Unknown          India                  631.0  \n",
       "4  3/3/2023   Unknown         Brazil                  788.0  "
      ]
     },
     "execution_count": 5,
     "metadata": {},
     "output_type": "execute_result"
    }
   ],
   "source": [
    "dl.head()"
   ]
  },
  {
   "cell_type": "code",
   "execution_count": null,
   "id": "a39b0bc0-12e9-4671-b146-44b5ef1f19e6",
   "metadata": {},
   "outputs": [],
   "source": []
  }
 ],
 "metadata": {
  "kernelspec": {
   "display_name": "Python [conda env:base] *",
   "language": "python",
   "name": "conda-base-py"
  },
  "language_info": {
   "codemirror_mode": {
    "name": "ipython",
    "version": 3
   },
   "file_extension": ".py",
   "mimetype": "text/x-python",
   "name": "python",
   "nbconvert_exporter": "python",
   "pygments_lexer": "ipython3",
   "version": "3.13.5"
  }
 },
 "nbformat": 4,
 "nbformat_minor": 5
}
